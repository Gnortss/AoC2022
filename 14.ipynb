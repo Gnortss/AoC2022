{
 "cells": [
  {
   "cell_type": "code",
   "execution_count": 49,
   "metadata": {},
   "outputs": [],
   "source": [
    "f = open(\"14.txt\", \"r\")\n",
    "lines = f.read().splitlines()\n",
    "\n",
    "D = dict()\n",
    "for l in lines:\n",
    "    cs = [tuple(map(int, e.split(','))) for e in l.split()[::2]]\n",
    "    for c1, c2 in zip(cs, cs[1:]):\n",
    "        x1, y1 = c1\n",
    "        x2, y2 = c2\n",
    "        if x1 == x2:\n",
    "            dir = (1, -1)[y1 > y2]\n",
    "            while y1 != y2:\n",
    "                D[x1, y1] = 1\n",
    "                y1 += dir\n",
    "            D[x1, y1] = 1\n",
    "        else:\n",
    "            dir = (1, -1)[x1 > x2]\n",
    "            while x1 != x2:\n",
    "                D[x1, y1] = 1\n",
    "                x1 += dir\n",
    "            D[x1, y1] = 1"
   ]
  },
  {
   "cell_type": "code",
   "execution_count": 50,
   "metadata": {},
   "outputs": [],
   "source": [
    "def get_lowest_bound():\n",
    "    return max(map(lambda x: x[1], D.keys()))\n",
    "\n",
    "def sim_sand(s=(500,0), L=get_lowest_bound()):\n",
    "    def is_free(*p):\n",
    "        return D.get(p, 0) == 0\n",
    "    x, y = s\n",
    "    while y <= L:\n",
    "        if is_free(x,y):\n",
    "            # get next fall\n",
    "            if is_free(x, y+1):\n",
    "                y += 1\n",
    "                continue\n",
    "            elif is_free(x-1, y+1):\n",
    "                x -= 1\n",
    "                y += 1\n",
    "                continue\n",
    "            elif is_free(x+1, y+1):\n",
    "                x += 1\n",
    "                y += 1\n",
    "                continue\n",
    "            else: # nothing free, settle\n",
    "                D[x, y] = 2\n",
    "                return 0\n",
    "        return -1\n",
    "    return -1"
   ]
  },
  {
   "cell_type": "code",
   "execution_count": 51,
   "metadata": {},
   "outputs": [],
   "source": [
    "#2nd part\n",
    "\n",
    "floor = get_lowest_bound() + 2\n",
    "for x in range(10000):\n",
    "    D[(x, floor)] = 1"
   ]
  },
  {
   "cell_type": "code",
   "execution_count": 52,
   "metadata": {},
   "outputs": [],
   "source": [
    "c = 0\n",
    "while sim_sand(L=floor) == 0:\n",
    "    c += 1"
   ]
  },
  {
   "cell_type": "code",
   "execution_count": 53,
   "metadata": {},
   "outputs": [
    {
     "name": "stdout",
     "output_type": "stream",
     "text": [
      "25585\n"
     ]
    }
   ],
   "source": [
    "print(c)"
   ]
  },
  {
   "cell_type": "code",
   "execution_count": null,
   "metadata": {},
   "outputs": [],
   "source": []
  }
 ],
 "metadata": {
  "kernelspec": {
   "display_name": "Python 3",
   "language": "python",
   "name": "python3"
  },
  "language_info": {
   "codemirror_mode": {
    "name": "ipython",
    "version": 3
   },
   "file_extension": ".py",
   "mimetype": "text/x-python",
   "name": "python",
   "nbconvert_exporter": "python",
   "pygments_lexer": "ipython3",
   "version": "3.11.0 (main, Oct 24 2022, 18:26:48) [MSC v.1933 64 bit (AMD64)]"
  },
  "orig_nbformat": 4,
  "vscode": {
   "interpreter": {
    "hash": "03c51c263ddb5d15784c03a6b974d0dc24db0d884743fd86f5aa745179e21189"
   }
  }
 },
 "nbformat": 4,
 "nbformat_minor": 2
}
