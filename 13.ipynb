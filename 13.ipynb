{
 "cells": [
  {
   "cell_type": "code",
   "execution_count": 52,
   "metadata": {},
   "outputs": [],
   "source": [
    "f = open(\"13.txt\", \"r\")\n",
    "lines = f.read().splitlines()"
   ]
  },
  {
   "cell_type": "code",
   "execution_count": 53,
   "metadata": {},
   "outputs": [],
   "source": [
    "from pprint import pprint\n",
    "d = [eval(line) for line in lines if len(line) > 0]\n",
    "# pprint(d)"
   ]
  },
  {
   "cell_type": "code",
   "execution_count": 54,
   "metadata": {},
   "outputs": [],
   "source": [
    "correct = set()\n",
    "wrong = set()\n",
    "from itertools import zip_longest\n",
    "def comp(p1, p2):\n",
    "    for f1, f2 in zip_longest(p1, p2, fillvalue=''):\n",
    "        match f1,f2:\n",
    "            case int(), int():\n",
    "                if f1 < f2:\n",
    "                    correct.add(i)\n",
    "                    return 1\n",
    "                elif f1 > f2:\n",
    "                    wrong.add(i)\n",
    "                    return -1\n",
    "            case list(), list():\n",
    "                if (ret := comp(f1, f2)) != 0:\n",
    "                    return ret\n",
    "            case int(), list():\n",
    "                f1 = [f1]\n",
    "                if (ret := comp(f1, f2)) != 0:\n",
    "                    return ret\n",
    "            case list(), int():\n",
    "                f2 = [f2]\n",
    "                if (ret := comp(f1, f2)) != 0:\n",
    "                    return ret\n",
    "            case str(), _:\n",
    "                return 1\n",
    "            case _, str():\n",
    "                return -1\n",
    "    return 0"
   ]
  },
  {
   "cell_type": "code",
   "execution_count": 55,
   "metadata": {},
   "outputs": [
    {
     "name": "stdout",
     "output_type": "stream",
     "text": [
      "{130, 3, 131, 5, 6, 134, 8, 9, 136, 139, 12, 13, 14, 15, 141, 17, 18, 142, 20, 21, 143, 145, 148, 25, 149, 27, 29, 30, 35, 40, 41, 46, 48, 52, 53, 55, 57, 58, 59, 61, 63, 64, 65, 71, 72, 74, 75, 76, 78, 79, 80, 83, 84, 86, 88, 89, 90, 93, 95, 96, 98, 99, 102, 103, 104, 107, 110, 111, 112, 113, 114, 121, 122, 125, 127}\n"
     ]
    }
   ],
   "source": [
    "i = 1\n",
    "for p1, p2 in zip(d[::2], d[1::2]):\n",
    "    if (ret := comp(p1, p2)) == -1:\n",
    "        wrong.add(i)\n",
    "    else:\n",
    "        correct.add(i)\n",
    "    i += 1\n",
    "print(correct)\n",
    "    "
   ]
  },
  {
   "cell_type": "code",
   "execution_count": 56,
   "metadata": {},
   "outputs": [],
   "source": [
    "from functools import cmp_to_key\n",
    "d.extend([[[2]],[[6]]])\n",
    "sd = sorted(d, key=cmp_to_key(comp), reverse=True)"
   ]
  },
  {
   "cell_type": "code",
   "execution_count": 57,
   "metadata": {},
   "outputs": [
    {
     "data": {
      "text/plain": [
       "22932"
      ]
     },
     "execution_count": 57,
     "metadata": {},
     "output_type": "execute_result"
    }
   ],
   "source": [
    "(sd.index([[2]]) + 1) * (sd.index([[6]]) + 1)"
   ]
  },
  {
   "cell_type": "code",
   "execution_count": null,
   "metadata": {},
   "outputs": [],
   "source": []
  }
 ],
 "metadata": {
  "kernelspec": {
   "display_name": "Python 3",
   "language": "python",
   "name": "python3"
  },
  "language_info": {
   "codemirror_mode": {
    "name": "ipython",
    "version": 3
   },
   "file_extension": ".py",
   "mimetype": "text/x-python",
   "name": "python",
   "nbconvert_exporter": "python",
   "pygments_lexer": "ipython3",
   "version": "3.11.0 (main, Oct 24 2022, 18:26:48) [MSC v.1933 64 bit (AMD64)]"
  },
  "orig_nbformat": 4,
  "vscode": {
   "interpreter": {
    "hash": "03c51c263ddb5d15784c03a6b974d0dc24db0d884743fd86f5aa745179e21189"
   }
  }
 },
 "nbformat": 4,
 "nbformat_minor": 2
}
