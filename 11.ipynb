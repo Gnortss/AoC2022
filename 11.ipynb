{
 "cells": [
  {
   "cell_type": "code",
   "execution_count": 43,
   "metadata": {},
   "outputs": [],
   "source": [
    "f = open(\"11.txt\", \"r\")\n",
    "lines = f.read().splitlines()"
   ]
  },
  {
   "cell_type": "code",
   "execution_count": 44,
   "metadata": {},
   "outputs": [],
   "source": [
    "MI = dict() #items\n",
    "MO = dict() #operations\n",
    "MT = dict() #tests\n",
    "MO2 = dict()\n",
    "MI2 = dict()\n",
    "MT2 = dict()\n",
    "MD = dict()\n",
    "\n",
    "curr_monkey = None\n",
    "testing = 0\n",
    "d = None\n",
    "t = None\n",
    "\n",
    "# FILL DICTS\n",
    "for line in lines:\n",
    "    ls = line.split()\n",
    "    match ls:\n",
    "        case ('Monkey', x):\n",
    "            x = int(x[:1])\n",
    "            curr_monkey = x\n",
    "        case ('Starting', 'items:', *items):\n",
    "            items = list(map(int,[e[:-1] if e[-1] == ',' else e for e in items]))\n",
    "            MI[curr_monkey] = items\n",
    "        case ('Operation:', 'new', '=', *op):\n",
    "            jop = \"\".join(op)\n",
    "            full = f\"lambda old: {jop}\"\n",
    "            MO[curr_monkey] = eval(full)\n",
    "            MO2[curr_monkey] = op[-2:]\n",
    "        case ('Test:', 'divisible', 'by', d):\n",
    "            MD[curr_monkey] = int(d)\n",
    "            testing = 2\n",
    "        case ('If', *_, x) if testing > 0:\n",
    "            if testing == 2:\n",
    "                t = x\n",
    "            else:\n",
    "                MT[curr_monkey] = eval(f\"lambda x: {t} if x%{d}==0 else {x}\")\n",
    "                MT2[curr_monkey] = (int(x), int(t)) # 2nd part\n",
    "            testing -= 1\n",
    "\n",
    "SM = 1\n",
    "for d in MD.values(): # common denominator\n",
    "    SM *= d\n",
    "for m in range(len(MI)): # 2nd part refactoring\n",
    "    MI2[m] = [v % SM for v in MI[m]]"
   ]
  },
  {
   "cell_type": "code",
   "execution_count": 45,
   "metadata": {},
   "outputs": [],
   "source": [
    "MII = dict()\n",
    "for round in range(1, 10001):\n",
    "    for m in range(len(MI2)):\n",
    "        # print(\"M\", m, MI[m])\n",
    "        for item in MI2[m]:\n",
    "            # operation\n",
    "            item = MO[m](item)\n",
    "            # bored\n",
    "            item = item % SM\n",
    "            # test\n",
    "            to_m = MT[m](item)\n",
    "            # throw\n",
    "            MI2[to_m].append(item)\n",
    "            # print(f\"thrown {item} to {to_m}\")\n",
    "        MII[m] = MII.get(m, 0) + len(MI2[m])\n",
    "        MI2[m] = []"
   ]
  },
  {
   "cell_type": "code",
   "execution_count": 47,
   "metadata": {},
   "outputs": [
    {
     "name": "stdout",
     "output_type": "stream",
     "text": [
      "[156056, 161943]\n"
     ]
    },
    {
     "data": {
      "text/plain": [
       "25272176808"
      ]
     },
     "execution_count": 47,
     "metadata": {},
     "output_type": "execute_result"
    }
   ],
   "source": [
    "print(sorted(list(MII.values()))[-2:])\n",
    "156056* 161943"
   ]
  },
  {
   "cell_type": "code",
   "execution_count": 60,
   "metadata": {},
   "outputs": [
    {
     "name": "stdout",
     "output_type": "stream",
     "text": [
      "{0: 4, 1: 6, 2: 1, 3: 5}\n"
     ]
    }
   ],
   "source": [
    "MII = dict()\n",
    "for round in range(1, 21):\n",
    "    for m in range(len(MI)):\n",
    "        # print(\"M\", m, MI[m])\n",
    "        for item in MI[m]:\n",
    "            # operation\n",
    "            item = MO[m](item)\n",
    "            # bored\n",
    "            item = item // 3\n",
    "            # test\n",
    "            to_m = MT[m](item)\n",
    "            # throw\n",
    "            MI[to_m].append(item)\n",
    "            # print(f\"thrown {item} to {to_m}\")\n",
    "        MII[m] = MII.get(m, 0) + len(MI[m])\n",
    "        MI[m] = []"
   ]
  },
  {
   "cell_type": "code",
   "execution_count": 61,
   "metadata": {},
   "outputs": [
    {
     "data": {
      "text/plain": [
       "[5, 6]"
      ]
     },
     "execution_count": 61,
     "metadata": {},
     "output_type": "execute_result"
    }
   ],
   "source": [
    "sorted(MII.values())[-2:]\n"
   ]
  },
  {
   "cell_type": "code",
   "execution_count": 62,
   "metadata": {},
   "outputs": [
    {
     "data": {
      "text/plain": [
       "112221"
      ]
     },
     "execution_count": 62,
     "metadata": {},
     "output_type": "execute_result"
    }
   ],
   "source": [
    "333*337"
   ]
  },
  {
   "cell_type": "code",
   "execution_count": 63,
   "metadata": {},
   "outputs": [
    {
     "data": {
      "text/plain": [
       "-1"
      ]
     },
     "execution_count": 63,
     "metadata": {},
     "output_type": "execute_result"
    }
   ],
   "source": [
    "(1,-1)[True]"
   ]
  },
  {
   "cell_type": "code",
   "execution_count": 64,
   "metadata": {},
   "outputs": [
    {
     "data": {
      "text/plain": [
       "(65, 6)"
      ]
     },
     "execution_count": 64,
     "metadata": {},
     "output_type": "execute_result"
    }
   ],
   "source": [
    "# 79\n",
    "# 3, 10\n",
    "# * 19\n",
    "# 1501\n",
    "# 65, 6\n",
    "\n",
    "3 * 19 + (10*19)//23, 10*19%23"
   ]
  },
  {
   "cell_type": "code",
   "execution_count": null,
   "metadata": {},
   "outputs": [],
   "source": []
  }
 ],
 "metadata": {
  "kernelspec": {
   "display_name": "Python 3",
   "language": "python",
   "name": "python3"
  },
  "language_info": {
   "codemirror_mode": {
    "name": "ipython",
    "version": 3
   },
   "file_extension": ".py",
   "mimetype": "text/x-python",
   "name": "python",
   "nbconvert_exporter": "python",
   "pygments_lexer": "ipython3",
   "version": "3.11.0 (main, Oct 24 2022, 18:26:48) [MSC v.1933 64 bit (AMD64)]"
  },
  "orig_nbformat": 4,
  "vscode": {
   "interpreter": {
    "hash": "03c51c263ddb5d15784c03a6b974d0dc24db0d884743fd86f5aa745179e21189"
   }
  }
 },
 "nbformat": 4,
 "nbformat_minor": 2
}
