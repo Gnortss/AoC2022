{
 "cells": [
  {
   "cell_type": "code",
   "execution_count": 1,
   "metadata": {},
   "outputs": [],
   "source": [
    "f = open(\"11.txt\", \"r\")\n",
    "lines = f.read().splitlines()"
   ]
  },
  {
   "cell_type": "code",
   "execution_count": 2,
   "metadata": {},
   "outputs": [],
   "source": [
    "MI = dict() #items\n",
    "MO = dict() #operations\n",
    "MT = dict() #tests\n",
    "MI2 = dict()\n",
    "MT2 = dict()\n",
    "MD = dict()\n",
    "\n",
    "curr_monkey = None\n",
    "testing = 0\n",
    "d = None\n",
    "t = None\n",
    "\n",
    "# FILL DICTS\n",
    "for line in lines:\n",
    "    ls = line.split()\n",
    "    match ls:\n",
    "        case ('Monkey', x):\n",
    "            x = int(x[:1])\n",
    "            curr_monkey = x\n",
    "        case ('Starting', 'items:', *items):\n",
    "            items = list(map(int,[e[:-1] if e[-1] == ',' else e for e in items]))\n",
    "            MI[curr_monkey] = items\n",
    "        case ('Operation:', 'new', '=', *op):\n",
    "            op = \"\".join(op)\n",
    "            full = f\"lambda old: {op}\"\n",
    "            MO[curr_monkey] = eval(full)\n",
    "        case ('Test:', 'divisible', 'by', d):\n",
    "            MD[curr_monkey] = int(d)\n",
    "            testing = 2\n",
    "        case ('If', *_, x) if testing > 0:\n",
    "            if testing == 2:\n",
    "                t = x\n",
    "            else:\n",
    "                MT[curr_monkey] = eval(f\"lambda x: {t} if x%{d}==0 else {x}\")\n",
    "                MT2[curr_monkey] = (int(x), int(t)) # 2nd part\n",
    "            testing -= 1\n",
    "\n",
    "for m in range(len(MI)): # 2nd part refactoring\n",
    "    # (d, full, remainder)\n",
    "    nitems = [(MD[m], v//MD[m], v%MD[m]) for v in MI[m]]\n",
    "    MI2[m] = nitems"
   ]
  },
  {
   "cell_type": "code",
   "execution_count": 27,
   "metadata": {},
   "outputs": [],
   "source": [
    "MII = dict()\n",
    "for round in range(1, 1001):\n",
    "    for m in range(len(MI2)):\n",
    "        # print(\"M\", m, MI[m])\n",
    "        for item in MI2[m]:\n",
    "            d, f, r = item\n",
    "            v = f * d + r\n",
    "            # operation\n",
    "            v = MO[m](v)\n",
    "            # test\n",
    "            to_m = MT2[m][r == 0]\n",
    "            # throw\n",
    "            MI2[to_m].append((d, v//d, v%d))\n",
    "            # print(f\"thrown {item} to {to_m}\")\n",
    "        MII[m] = MII.get(m, 0) + len(MI2[m])\n",
    "        MI2[m] = []"
   ]
  },
  {
   "cell_type": "code",
   "execution_count": 3,
   "metadata": {},
   "outputs": [
    {
     "ename": "KeyboardInterrupt",
     "evalue": "",
     "output_type": "error",
     "traceback": [
      "\u001b[1;31m---------------------------------------------------------------------------\u001b[0m",
      "\u001b[1;31mKeyboardInterrupt\u001b[0m                         Traceback (most recent call last)",
      "Cell \u001b[1;32mIn[3], line 13\u001b[0m\n\u001b[0;32m     11\u001b[0m     to_m \u001b[39m=\u001b[39m MT[m](item)\n\u001b[0;32m     12\u001b[0m     \u001b[39m# throw\u001b[39;00m\n\u001b[1;32m---> 13\u001b[0m     MI[to_m]\u001b[39m.\u001b[39mappend(item)\n\u001b[0;32m     14\u001b[0m     \u001b[39m# print(f\"thrown {item} to {to_m}\")\u001b[39;00m\n\u001b[0;32m     15\u001b[0m MII[m] \u001b[39m=\u001b[39m MII\u001b[39m.\u001b[39mget(m, \u001b[39m0\u001b[39m) \u001b[39m+\u001b[39m \u001b[39mlen\u001b[39m(MI[m])\n",
      "\u001b[1;31mKeyboardInterrupt\u001b[0m: "
     ]
    }
   ],
   "source": [
    "MII = dict()\n",
    "for round in range(1, 1001):\n",
    "    for m in range(len(MI)):\n",
    "        # print(\"M\", m, MI[m])\n",
    "        for item in MI[m]:\n",
    "            # operation\n",
    "            item = MO[m](item)\n",
    "            # bored\n",
    "            # item = item // 3\n",
    "            # test\n",
    "            to_m = MT[m](item)\n",
    "            # throw\n",
    "            MI[to_m].append(item)\n",
    "            # print(f\"thrown {item} to {to_m}\")\n",
    "        MII[m] = MII.get(m, 0) + len(MI[m])\n",
    "        MI[m] = []"
   ]
  },
  {
   "cell_type": "code",
   "execution_count": 19,
   "metadata": {},
   "outputs": [
    {
     "name": "stdout",
     "output_type": "stream",
     "text": [
      "{0: 99, 1: 97, 2: 8, 3: 103}\n"
     ]
    }
   ],
   "source": [
    "print(MII)"
   ]
  },
  {
   "cell_type": "code",
   "execution_count": null,
   "metadata": {},
   "outputs": [
    {
     "data": {
      "text/plain": [
       "[99, 103]"
      ]
     },
     "execution_count": 106,
     "metadata": {},
     "output_type": "execute_result"
    }
   ],
   "source": [
    "sorted(MII.values())[-2:]\n"
   ]
  },
  {
   "cell_type": "code",
   "execution_count": null,
   "metadata": {},
   "outputs": [
    {
     "data": {
      "text/plain": [
       "112221"
      ]
     },
     "execution_count": 107,
     "metadata": {},
     "output_type": "execute_result"
    }
   ],
   "source": [
    "333*337"
   ]
  },
  {
   "cell_type": "code",
   "execution_count": 23,
   "metadata": {},
   "outputs": [
    {
     "data": {
      "text/plain": [
       "-1"
      ]
     },
     "execution_count": 23,
     "metadata": {},
     "output_type": "execute_result"
    }
   ],
   "source": [
    "(1,-1)[True]"
   ]
  },
  {
   "cell_type": "code",
   "execution_count": null,
   "metadata": {},
   "outputs": [],
   "source": []
  }
 ],
 "metadata": {
  "kernelspec": {
   "display_name": "Python 3",
   "language": "python",
   "name": "python3"
  },
  "language_info": {
   "codemirror_mode": {
    "name": "ipython",
    "version": 3
   },
   "file_extension": ".py",
   "mimetype": "text/x-python",
   "name": "python",
   "nbconvert_exporter": "python",
   "pygments_lexer": "ipython3",
   "version": "3.11.0 (main, Oct 24 2022, 18:26:48) [MSC v.1933 64 bit (AMD64)]"
  },
  "orig_nbformat": 4,
  "vscode": {
   "interpreter": {
    "hash": "03c51c263ddb5d15784c03a6b974d0dc24db0d884743fd86f5aa745179e21189"
   }
  }
 },
 "nbformat": 4,
 "nbformat_minor": 2
}
