{
 "cells": [
  {
   "cell_type": "code",
   "execution_count": 40,
   "metadata": {},
   "outputs": [],
   "source": [
    "f = open(\"10.txt\", \"r\")\n",
    "lines = f.read().splitlines()"
   ]
  },
  {
   "cell_type": "code",
   "execution_count": 53,
   "metadata": {},
   "outputs": [
    {
     "name": "stdout",
     "output_type": "stream",
     "text": [
      "####..##...##....##.####...##.####.#....\n",
      "...#.#..#.#..#....#....#....#.#....#....\n",
      "..#..#....#.......#...#.....#.###..#....\n",
      ".#...#.##.#.......#..#......#.#....#....\n",
      "#....#..#.#..#.#..#.#....#..#.#....#....\n",
      "####..###..##...##..####..##..#....####.\n",
      "0\n"
     ]
    }
   ],
   "source": [
    "c = 0\n",
    "X = 1\n",
    "s = 0\n",
    "inside = lambda c, X: c%40 in [X-1, X, X+1]\n",
    "\n",
    "for line in lines:\n",
    "    ls = line.split()\n",
    "    match ls[0]:\n",
    "        case 'addx':\n",
    "            v = int(ls[1])\n",
    "            if inside(c, X):\n",
    "                print('#', end='' if c%40!=39 else '\\n')\n",
    "            else:\n",
    "                print('.', end='' if c%40!=39 else '\\n')\n",
    "            # if (c + 1 - 20) % 40 == 0:\n",
    "            #     s += (c+1) * X\n",
    "            if inside(c+1, X):\n",
    "                print('#', end='' if (c+1)%40!=39 else '\\n')\n",
    "            else:\n",
    "                print('.', end='' if (c+1)%40!=39 else '\\n')\n",
    "            c += 2\n",
    "            # if (c - 20) % 40 == 0:\n",
    "            #     s += c * X\n",
    "            X += v\n",
    "        case 'noop':\n",
    "            if inside(c, X):\n",
    "                print('#', end='' if c%40!=39 else '\\n')\n",
    "            else:\n",
    "                print('.', end='' if c%40!=39 else '\\n')\n",
    "            c += 1\n",
    "            # if (c - 20) % 40 == 0:\n",
    "            #     s += c * X\n",
    "print(s)"
   ]
  },
  {
   "cell_type": "code",
   "execution_count": 43,
   "metadata": {},
   "outputs": [
    {
     "data": {
      "text/plain": [
       "True"
      ]
     },
     "execution_count": 43,
     "metadata": {},
     "output_type": "execute_result"
    }
   ],
   "source": [
    "inside(0, 0)"
   ]
  },
  {
   "cell_type": "code",
   "execution_count": 44,
   "metadata": {},
   "outputs": [
    {
     "data": {
      "text/plain": [
       "True"
      ]
     },
     "execution_count": 44,
     "metadata": {},
     "output_type": "execute_result"
    }
   ],
   "source": [
    "inside(0, 1)"
   ]
  },
  {
   "cell_type": "code",
   "execution_count": 45,
   "metadata": {},
   "outputs": [
    {
     "data": {
      "text/plain": [
       "False"
      ]
     },
     "execution_count": 45,
     "metadata": {},
     "output_type": "execute_result"
    }
   ],
   "source": [
    "inside(0, 2)"
   ]
  },
  {
   "cell_type": "code",
   "execution_count": 49,
   "metadata": {},
   "outputs": [
    {
     "data": {
      "text/plain": [
       "True"
      ]
     },
     "execution_count": 49,
     "metadata": {},
     "output_type": "execute_result"
    }
   ],
   "source": [
    "inside(42, 1)"
   ]
  },
  {
   "cell_type": "code",
   "execution_count": null,
   "metadata": {},
   "outputs": [],
   "source": []
  }
 ],
 "metadata": {
  "kernelspec": {
   "display_name": "Python 3",
   "language": "python",
   "name": "python3"
  },
  "language_info": {
   "codemirror_mode": {
    "name": "ipython",
    "version": 3
   },
   "file_extension": ".py",
   "mimetype": "text/x-python",
   "name": "python",
   "nbconvert_exporter": "python",
   "pygments_lexer": "ipython3",
   "version": "3.11.0 (main, Oct 24 2022, 18:26:48) [MSC v.1933 64 bit (AMD64)]"
  },
  "orig_nbformat": 4,
  "vscode": {
   "interpreter": {
    "hash": "03c51c263ddb5d15784c03a6b974d0dc24db0d884743fd86f5aa745179e21189"
   }
  }
 },
 "nbformat": 4,
 "nbformat_minor": 2
}
