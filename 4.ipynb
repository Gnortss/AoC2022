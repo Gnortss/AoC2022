{
 "cells": [
  {
   "cell_type": "code",
   "execution_count": 8,
   "metadata": {},
   "outputs": [],
   "source": [
    "f = open(\"44.txt\", \"r\")\n",
    "lines = f.read().splitlines()"
   ]
  },
  {
   "cell_type": "code",
   "execution_count": 9,
   "metadata": {},
   "outputs": [],
   "source": [
    "def get_min_max(p1):\n",
    "    m, M = p1.split(\"-\")\n",
    "    return int(m), int(M)"
   ]
  },
  {
   "cell_type": "code",
   "execution_count": 10,
   "metadata": {},
   "outputs": [
    {
     "name": "stdout",
     "output_type": "stream",
     "text": [
      "511\n"
     ]
    }
   ],
   "source": [
    "s = 0\n",
    "for line in lines:\n",
    "    p1, p2 = line.split(\",\")\n",
    "    rng1, rng2 = get_min_max(p1), get_min_max(p2)\n",
    "    if rng1[0] <= rng2[0] and rng1[1] >= rng2[1] or rng2[0] <= rng1[0] and rng2[1] >= rng1[1]:\n",
    "        s += 1\n",
    "print(s)\n"
   ]
  },
  {
   "cell_type": "code",
   "execution_count": 11,
   "metadata": {},
   "outputs": [
    {
     "name": "stdout",
     "output_type": "stream",
     "text": [
      "821\n"
     ]
    }
   ],
   "source": [
    "s = 0\n",
    "for line in lines:\n",
    "    p1, p2 = line.split(\",\")\n",
    "    rng1, rng2 = get_min_max(p1), get_min_max(p2)\n",
    "    if rng1[0] <= rng2[0] and rng1[1] >= rng2[1] or rng2[0] <= rng1[0] and rng2[1] >= rng1[1] or \\\n",
    "    rng1[0] >= rng2[0] and rng1[0] <= rng2[1] or rng1[1] <= rng2[1] and rng1[1] >= rng2[0]:\n",
    "        s += 1\n",
    "print(s)"
   ]
  },
  {
   "cell_type": "code",
   "execution_count": null,
   "metadata": {},
   "outputs": [],
   "source": []
  }
 ],
 "metadata": {
  "kernelspec": {
   "display_name": "Python 3.11.0 64-bit",
   "language": "python",
   "name": "python3"
  },
  "language_info": {
   "codemirror_mode": {
    "name": "ipython",
    "version": 3
   },
   "file_extension": ".py",
   "mimetype": "text/x-python",
   "name": "python",
   "nbconvert_exporter": "python",
   "pygments_lexer": "ipython3",
   "version": "3.11.0"
  },
  "orig_nbformat": 4,
  "vscode": {
   "interpreter": {
    "hash": "03c51c263ddb5d15784c03a6b974d0dc24db0d884743fd86f5aa745179e21189"
   }
  }
 },
 "nbformat": 4,
 "nbformat_minor": 2
}
