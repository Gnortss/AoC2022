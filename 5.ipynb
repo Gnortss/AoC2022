{
 "cells": [
  {
   "cell_type": "code",
   "execution_count": 47,
   "metadata": {},
   "outputs": [],
   "source": [
    "f = open(\"55.txt\", \"r\")\n",
    "lines = f.read().splitlines()"
   ]
  },
  {
   "cell_type": "code",
   "execution_count": 48,
   "metadata": {},
   "outputs": [],
   "source": [
    "import re\n",
    "from pprint import pprint\n"
   ]
  },
  {
   "cell_type": "code",
   "execution_count": 51,
   "metadata": {},
   "outputs": [],
   "source": [
    "stacks = []\n",
    "done_building = False\n",
    "moving = False\n",
    "for line in lines:\n",
    "    if len(line) == 0:\n",
    "        moving = True\n",
    "        continue\n",
    "    if not done_building:\n",
    "        s = list(map(lambda x: x[:-1] if len(x) > 3 else x, re.findall('....{0,1}+', line)))\n",
    "        if s[0] == \" 1 \":\n",
    "            done_building = True\n",
    "            continue\n",
    "        if len(stacks) == 0:\n",
    "            for e in s:\n",
    "                stacks.append([e] if not e.isspace() else [])\n",
    "        else:\n",
    "            for i, e in enumerate(s):\n",
    "                if not e.isspace():\n",
    "                    stacks[i].append(e)\n",
    "    if moving:\n",
    "        move = line.split(\" \")[1::2]\n",
    "        # for _ in range(int(move[0])):\n",
    "        #     tmp = stacks[int(move[1]) - 1].pop(0)\n",
    "        #     stacks[int(move[2]) - 1].insert(0, tmp)\n",
    "        tmp_list = stacks[int(move[1]) - 1][:int(move[0])]\n",
    "        stacks[int(move[1]) - 1] = stacks[int(move[1]) - 1][int(move[0]):]\n",
    "        stacks[int(move[2]) - 1] = tmp_list + stacks[int(move[2]) -1]\n"
   ]
  },
  {
   "cell_type": "code",
   "execution_count": 52,
   "metadata": {},
   "outputs": [
    {
     "name": "stdout",
     "output_type": "stream",
     "text": [
      "CJVLJQPHS\n"
     ]
    }
   ],
   "source": [
    "res = \"\"\n",
    "for e in stacks:\n",
    "    if len(e) > 0:\n",
    "        res += (e.pop(0)[1:-1])\n",
    "print(res)"
   ]
  },
  {
   "cell_type": "code",
   "execution_count": 15,
   "metadata": {},
   "outputs": [
    {
     "data": {
      "text/plain": [
       "2"
      ]
     },
     "execution_count": 15,
     "metadata": {},
     "output_type": "execute_result"
    }
   ],
   "source": [
    "int(\" 2 \")"
   ]
  },
  {
   "cell_type": "code",
   "execution_count": null,
   "metadata": {},
   "outputs": [],
   "source": []
  }
 ],
 "metadata": {
  "kernelspec": {
   "display_name": "Python 3.11.0 64-bit",
   "language": "python",
   "name": "python3"
  },
  "language_info": {
   "codemirror_mode": {
    "name": "ipython",
    "version": 3
   },
   "file_extension": ".py",
   "mimetype": "text/x-python",
   "name": "python",
   "nbconvert_exporter": "python",
   "pygments_lexer": "ipython3",
   "version": "3.11.0"
  },
  "orig_nbformat": 4,
  "vscode": {
   "interpreter": {
    "hash": "03c51c263ddb5d15784c03a6b974d0dc24db0d884743fd86f5aa745179e21189"
   }
  }
 },
 "nbformat": 4,
 "nbformat_minor": 2
}
