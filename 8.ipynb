{
 "cells": [
  {
   "cell_type": "code",
   "execution_count": 2,
   "metadata": {},
   "outputs": [],
   "source": [
    "f = open(\"8.txt\", \"r\")\n",
    "lines = f.read().splitlines()"
   ]
  },
  {
   "cell_type": "code",
   "execution_count": 3,
   "metadata": {},
   "outputs": [
    {
     "name": "stdout",
     "output_type": "stream",
     "text": [
      "99 99\n"
     ]
    }
   ],
   "source": [
    "d = [list(map(int,list(e))) for e in lines]\n",
    "print(len(d[0]), len(d))"
   ]
  },
  {
   "cell_type": "code",
   "execution_count": 4,
   "metadata": {},
   "outputs": [
    {
     "data": {
      "text/plain": [
       "1794"
      ]
     },
     "execution_count": 4,
     "metadata": {},
     "output_type": "execute_result"
    }
   ],
   "source": [
    "s = 0\n",
    "vis = lambda i, row: True if i == 0 else max(row[:i]) < row[i]\n",
    "td = list(zip(*d))\n",
    "for i in range(len(d[0])):\n",
    "    for j in range(len(d)):\n",
    "        row = d[i]\n",
    "        col = td[j]\n",
    "        if vis(j, row) or vis(len(row)-j-1, row[::-1])\\\n",
    "            or vis(i, col) or vis(len(col)-i-1, col[::-1]):\n",
    "            s+=1\n",
    "s"
   ]
  },
  {
   "cell_type": "code",
   "execution_count": 17,
   "metadata": {},
   "outputs": [
    {
     "data": {
      "text/plain": [
       "199272"
      ]
     },
     "execution_count": 17,
     "metadata": {},
     "output_type": "execute_result"
    }
   ],
   "source": [
    "s = 0\n",
    "def score(v, l):\n",
    "    r = 0\n",
    "    for e in l:\n",
    "        r += 1\n",
    "        if e >= v:\n",
    "            break\n",
    "    return r\n",
    "\n",
    "td = list(zip(*d))\n",
    "for i in range(len(d[0])):\n",
    "    for j in range(len(d)):\n",
    "        row = d[i]\n",
    "        col = td[j]\n",
    "        v = d[i][j]\n",
    "        ss = score(v, row[:j][::-1]) * score(v, row[j+1:]) * score(v, col[:i][::-1]) * score(v, col[i+1:])\n",
    "        s = ss if ss > s else s\n",
    "s"
   ]
  },
  {
   "cell_type": "code",
   "execution_count": null,
   "metadata": {},
   "outputs": [],
   "source": []
  }
 ],
 "metadata": {
  "kernelspec": {
   "display_name": "Python 3.11.0 64-bit",
   "language": "python",
   "name": "python3"
  },
  "language_info": {
   "codemirror_mode": {
    "name": "ipython",
    "version": 3
   },
   "file_extension": ".py",
   "mimetype": "text/x-python",
   "name": "python",
   "nbconvert_exporter": "python",
   "pygments_lexer": "ipython3",
   "version": "3.11.0 (main, Oct 24 2022, 18:26:48) [MSC v.1933 64 bit (AMD64)]"
  },
  "orig_nbformat": 4,
  "vscode": {
   "interpreter": {
    "hash": "03c51c263ddb5d15784c03a6b974d0dc24db0d884743fd86f5aa745179e21189"
   }
  }
 },
 "nbformat": 4,
 "nbformat_minor": 2
}
