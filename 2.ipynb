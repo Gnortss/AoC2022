{
 "cells": [
  {
   "cell_type": "code",
   "execution_count": 21,
   "metadata": {},
   "outputs": [],
   "source": [
    "f = open(\"22.txt\", \"r\")\n",
    "lines = f.read().splitlines()"
   ]
  },
  {
   "cell_type": "code",
   "execution_count": 34,
   "metadata": {},
   "outputs": [],
   "source": [
    "def points(p1 ,p2):\n",
    "    s = 0\n",
    "    if p1 == p2:\n",
    "        s += 3\n",
    "    elif p1 == 'A' and p2 == 'B' or p1 == 'B' and p2 == 'C' or p1 == 'C' and p2 == 'A':\n",
    "        s += 6\n",
    "    s += ord(p2) - ord('A') + 1\n",
    "    return s\n",
    "\n",
    "def get_play(p1, win):\n",
    "    d = 1 if win else -1\n",
    "    return chr(ord('A') + ((ord(p1) - ord('A') + d) % 3))"
   ]
  },
  {
   "cell_type": "code",
   "execution_count": 24,
   "metadata": {},
   "outputs": [
    {
     "name": "stdout",
     "output_type": "stream",
     "text": [
      "12586\n"
     ]
    }
   ],
   "source": [
    "s = 0\n",
    "for l in lines:\n",
    "    p1, p2 = l.split()\n",
    "    p2 = chr(ord(p2) - (ord('X') - ord('A')))\n",
    "    s += points(p1, p2)\n",
    "    \n",
    "print(s)"
   ]
  },
  {
   "cell_type": "code",
   "execution_count": 36,
   "metadata": {},
   "outputs": [
    {
     "name": "stdout",
     "output_type": "stream",
     "text": [
      "13193\n"
     ]
    }
   ],
   "source": [
    "s = 0\n",
    "for l in lines:\n",
    "    p1, outcome = l.split()\n",
    "    p2 = p1\n",
    "    if outcome == 'X': # lose\n",
    "        p2 = get_play(p1, False)\n",
    "    elif outcome == 'Z': # win\n",
    "        p2 = get_play(p1, True)\n",
    "    s += points(p1, p2)\n",
    "print(s)"
   ]
  },
  {
   "cell_type": "code",
   "execution_count": null,
   "metadata": {},
   "outputs": [],
   "source": []
  }
 ],
 "metadata": {
  "kernelspec": {
   "display_name": "Python 3.11.0 64-bit",
   "language": "python",
   "name": "python3"
  },
  "language_info": {
   "codemirror_mode": {
    "name": "ipython",
    "version": 3
   },
   "file_extension": ".py",
   "mimetype": "text/x-python",
   "name": "python",
   "nbconvert_exporter": "python",
   "pygments_lexer": "ipython3",
   "version": "3.11.0"
  },
  "orig_nbformat": 4,
  "vscode": {
   "interpreter": {
    "hash": "03c51c263ddb5d15784c03a6b974d0dc24db0d884743fd86f5aa745179e21189"
   }
  }
 },
 "nbformat": 4,
 "nbformat_minor": 2
}
