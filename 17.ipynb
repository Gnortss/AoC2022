{
 "cells": [
  {
   "cell_type": "code",
   "execution_count": 97,
   "metadata": {},
   "outputs": [],
   "source": [
    "f = open(\"17.txt\", \"r\")\n",
    "lines = f.read().splitlines()\n",
    "\n",
    "M = []\n",
    "R = []\n",
    "lw, rw = -1, 7\n",
    "floor = [{0} for _ in range(0,7)]\n",
    "\n",
    "def push_rock(rf, m, h):\n",
    "    nr = []\n",
    "    for i, (s, e) in enumerate(reversed(rf)):\n",
    "        if s+m <= lw or e+m >= rw:\n",
    "            return rf, False\n",
    "        elif h+i in floor[s+m] or h+i in floor[e+m]:\n",
    "            return rf, False\n",
    "        nr = [(s+m, e+m)] + nr\n",
    "    return nr, True\n",
    "\n",
    "def fall_rock(rf, h):\n",
    "    if max_floor() < h-1:\n",
    "        return True\n",
    "    # iterate from bottom to top of the rock lines\n",
    "    for i, (s, e) in enumerate(reversed(rf)):\n",
    "        for l in range(s, e+1):\n",
    "            # print(floor[l], \"vs\", h-1+i)\n",
    "            if h-1+i in floor[l]:\n",
    "                return False\n",
    "    return True\n",
    "\n",
    "def update_floor(r, h):\n",
    "    global floor\n",
    "    for i, (s, e) in enumerate(r):\n",
    "        for l in range(s, e+1):\n",
    "            floor[l].add(h + len(r) - i - 1)\n",
    "\n",
    "def max_floor():\n",
    "    return max(max(e) for e in floor)\n",
    "\n",
    "def init(): \n",
    "    global M, R, lw, rw, floor\n",
    "    lw, rw = -1, 7\n",
    "    floor = [{0} for _ in range(0,7)]\n",
    "    M = list(map(lambda x: -1 if x == '<' else 1, list(lines[0])))\n",
    "    R = [[(0,3)],[(1,1),(0,2),(1,1)],[(2,2),(2,2),(0,2)],[(0,0),(0,0),(0,0),(0,0)],[(0,1), (0,1)]]\n",
    "    NR = []\n",
    "    for rf in R:\n",
    "        x, _ = push_rock(rf, 2, 1)\n",
    "        NR.append(x)\n",
    "    R = NR\n",
    "\n",
    "init()\n",
    "\n",
    "# from pprint import pprint\n",
    "# pprint(M)\n",
    "# pprint(R)"
   ]
  },
  {
   "cell_type": "code",
   "execution_count": 91,
   "metadata": {},
   "outputs": [],
   "source": [
    "# update_floor(R[0], 1)\n",
    "# print(floor)"
   ]
  },
  {
   "cell_type": "code",
   "execution_count": 103,
   "metadata": {},
   "outputs": [],
   "source": [
    "init()\n",
    "mi = 0\n",
    "for ri in range(0, 10000):\n",
    "    # spawn\n",
    "    r = R[ri % len(R)]\n",
    "    h = max_floor() + 4\n",
    "    # iterate over push and fall\n",
    "    # print(\"ROCK\", ri)\n",
    "    while True:\n",
    "        m = M[mi % len(M)]\n",
    "        r, s = push_rock(r, m, h)\n",
    "        # print(\"HEIGHT\", h, \"M\", m, s)\n",
    "        mi += 1\n",
    "        if fall_rock(r, h):\n",
    "            h -= 1\n",
    "        else:\n",
    "            break\n",
    "    # print(r)\n",
    "    # stops falling -- update highest points\n",
    "    update_floor(r, h)\n",
    "    # print(ri, [max(e) for e in floor])\n",
    "    # if ri == 2:\n",
    "    #     break"
   ]
  },
  {
   "cell_type": "code",
   "execution_count": 99,
   "metadata": {},
   "outputs": [
    {
     "data": {
      "text/plain": [
       "3135"
      ]
     },
     "execution_count": 99,
     "metadata": {},
     "output_type": "execute_result"
    }
   ],
   "source": [
    "max_floor()"
   ]
  },
  {
   "cell_type": "code",
   "execution_count": 104,
   "metadata": {},
   "outputs": [
    {
     "ename": "KeyboardInterrupt",
     "evalue": "",
     "output_type": "error",
     "traceback": [
      "\u001b[1;31m---------------------------------------------------------------------------\u001b[0m",
      "\u001b[1;31mKeyboardInterrupt\u001b[0m                         Traceback (most recent call last)",
      "Cell \u001b[1;32mIn[104], line 2\u001b[0m\n\u001b[0;32m      1\u001b[0m x \u001b[39m=\u001b[39m \u001b[39m0\u001b[39m\n\u001b[1;32m----> 2\u001b[0m \u001b[39mwhile\u001b[39;00m x \u001b[39m<\u001b[39m \u001b[39m1000000000000\u001b[39m:\n\u001b[0;32m      3\u001b[0m     x \u001b[39m+\u001b[39m\u001b[39m=\u001b[39m \u001b[39m1\u001b[39m\n\u001b[0;32m      4\u001b[0m \u001b[39mprint\u001b[39m(x)\n",
      "\u001b[1;31mKeyboardInterrupt\u001b[0m: "
     ]
    }
   ],
   "source": [
    "x = 0\n",
    "while x < 1000000000000:\n",
    "    x += 1\n",
    "print(x)"
   ]
  },
  {
   "cell_type": "code",
   "execution_count": null,
   "metadata": {},
   "outputs": [],
   "source": []
  }
 ],
 "metadata": {
  "kernelspec": {
   "display_name": "Python 3",
   "language": "python",
   "name": "python3"
  },
  "language_info": {
   "codemirror_mode": {
    "name": "ipython",
    "version": 3
   },
   "file_extension": ".py",
   "mimetype": "text/x-python",
   "name": "python",
   "nbconvert_exporter": "python",
   "pygments_lexer": "ipython3",
   "version": "3.11.0 (main, Oct 24 2022, 18:26:48) [MSC v.1933 64 bit (AMD64)]"
  },
  "orig_nbformat": 4,
  "vscode": {
   "interpreter": {
    "hash": "03c51c263ddb5d15784c03a6b974d0dc24db0d884743fd86f5aa745179e21189"
   }
  }
 },
 "nbformat": 4,
 "nbformat_minor": 2
}
