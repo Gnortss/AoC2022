{
 "cells": [
  {
   "cell_type": "code",
   "execution_count": 98,
   "metadata": {},
   "outputs": [],
   "source": [
    "f = open(\"16.txt\", \"r\")\n",
    "lines = f.read().splitlines()\n",
    "\n",
    "'''\n",
    "{\n",
    "    'name': 'AA',\n",
    "    'rate': 10,\n",
    "    'next': [a,a,a]\n",
    "}\n",
    "'''\n",
    "def create_node(n, fr, neighbours):\n",
    "    return {\n",
    "        'name': n,\n",
    "        'rate': fr,\n",
    "        'next': neighbours,\n",
    "        'open': False\n",
    "    }\n",
    "\n",
    "D = dict()\n",
    "\n",
    "def init():\n",
    "    for line in lines:\n",
    "        ls = line.split()\n",
    "        name = ls[1]\n",
    "        rate = int(ls[4].split(\"=\")[1][:-1])\n",
    "        neighbours = list(map(lambda x: x if len(x) == 2 else x[:-1], ls[9:]))\n",
    "        D[name] = create_node(name, rate, neighbours)\n",
    "        # print(D[name])"
   ]
  },
  {
   "cell_type": "code",
   "execution_count": 99,
   "metadata": {},
   "outputs": [],
   "source": [
    "from functools import cmp_to_key\n",
    "def sort_nodes(nodes, pu=False):\n",
    "    def cmp(a, b):\n",
    "        if pu and D[a]['open'] and not D[b]['open']:\n",
    "            return -1\n",
    "        elif pu and not D[a]['open'] and D[b]['open']:\n",
    "            return 1\n",
    "        else:\n",
    "            return D[a]['rate'] - D[b]['rate']\n",
    "    return sorted(nodes, key=cmp_to_key(cmp), reverse=True)\n",
    "\n",
    "def open_nodes(nodes):\n",
    "    return set(n for n in nodes if D[n]['open'])\n",
    "\n",
    "def unopen_nodes(nodes):\n",
    "    return set(n for n in nodes if not D[n]['open'])\n",
    "\n",
    "def h(current_pressure, unopen_nodes, time_left):\n",
    "    sorted_nodes = sort_nodes(unopen_nodes)\n",
    "    # print(\"sorted\", sorted_nodes)\n",
    "    while time_left - 2 > 0 and len(sorted_nodes) != 0:\n",
    "        n, *sorted_nodes = sorted_nodes\n",
    "        time_left = time_left - 2\n",
    "        v = D[n]['rate'] * time_left\n",
    "        current_pressure += v\n",
    "        # print(n, v)\n",
    "    return current_pressure\n",
    "\n",
    "def h2(cp, un, tl):\n",
    "    sn = sort_nodes(un)\n",
    "    while tl - 2 > 0 and len(sn) != 0:\n",
    "        tl -= 2\n",
    "        n1, *sn = sn\n",
    "        n2 = None\n",
    "        if len(sn) > 0:\n",
    "            n2, *sn = sn\n",
    "        v1 = D[n1]['rate'] * tl\n",
    "        v2 = D[n2]['rate'] * tl if n2 is not None else 0\n",
    "        cp += v1 + v2\n",
    "    return cp\n",
    "\n",
    "\n",
    "# sort_nodes(['AA', 'BB', 'CC'])\n",
    "    "
   ]
  },
  {
   "cell_type": "code",
   "execution_count": 100,
   "metadata": {},
   "outputs": [],
   "source": [
    "p = [('AA', 'AA')]\n",
    "best_p = p\n",
    "mp = 0\n",
    "\n",
    "def next_moves(node, m_left):\n",
    "    if not node['open'] and node['rate'] > 0:\n",
    "        yield node, (m_left-1)*node['rate']\n",
    "    for n in sort_nodes(node['next'], pu=True):\n",
    "        yield D[n], 0\n",
    "\n",
    "def s(n, tp, ml):\n",
    "    global mp\n",
    "\n",
    "    unopen = unopen_nodes(D.keys())\n",
    "    if (heur := h(tp, unopen, ml)) <= mp:\n",
    "        return\n",
    "\n",
    "    if ml == 0:\n",
    "        if tp > mp:\n",
    "            mp = tp\n",
    "        return\n",
    "    \n",
    "    for next_node, add_pressure in next_moves(n, ml):\n",
    "        n['open'] = (n['open'], True)[next_node['name'] == n['name']]\n",
    "        s(next_node, tp+add_pressure, ml-1)\n",
    "        n['open'] = (n['open'], False)[next_node['name'] == n['name']]\n",
    "\n",
    "def s2(n1, n2, tp, ml):\n",
    "    global mp, p, best_p\n",
    "    \n",
    "    unopen = unopen_nodes(D.keys())\n",
    "    if (heur := h2(tp, unopen, ml)) <= mp:\n",
    "        return\n",
    "\n",
    "    if ml == 0:\n",
    "        if tp > mp:\n",
    "            best_p = p\n",
    "            mp = tp\n",
    "        return\n",
    "\n",
    "    # cycle through every man move\n",
    "    for nn1, ap1 in next_moves(n1, ml):\n",
    "        # cycle through every elephant move\n",
    "        n1['open'] = (n1['open'], True)[nn1['name'] == n1['name']]\n",
    "        for nn2, ap2 in next_moves(n2, ml):\n",
    "            n2['open'] = (n2['open'], True)[nn2['name'] == n2['name']]\n",
    "            p = p + [(nn1['name'], nn2['name'])]\n",
    "            # print(nn1['name'], nn2['name'])\n",
    "            s2(nn1, nn2, tp + ap1 + ap2, ml-1)\n",
    "            *p, _ = p\n",
    "            n2['open'] = (n2['open'], False)[nn2['name'] == n2['name']]\n",
    "        n1['open'] = (n1['open'], False)[nn1['name'] == n1['name']]\n",
    "\n",
    "    "
   ]
  },
  {
   "cell_type": "code",
   "execution_count": 96,
   "metadata": {},
   "outputs": [
    {
     "name": "stdout",
     "output_type": "stream",
     "text": [
      "1650\n"
     ]
    }
   ],
   "source": [
    "init()\n",
    "mp=0\n",
    "s(D['AA'], 0, 30)\n",
    "print(mp)"
   ]
  },
  {
   "cell_type": "code",
   "execution_count": 101,
   "metadata": {},
   "outputs": [
    {
     "ename": "KeyboardInterrupt",
     "evalue": "",
     "output_type": "error",
     "traceback": [
      "\u001b[1;31m---------------------------------------------------------------------------\u001b[0m",
      "\u001b[1;31mKeyboardInterrupt\u001b[0m                         Traceback (most recent call last)",
      "Cell \u001b[1;32mIn[101], line 4\u001b[0m\n\u001b[0;32m      2\u001b[0m mp\u001b[39m=\u001b[39m\u001b[39m0\u001b[39m\n\u001b[0;32m      3\u001b[0m p \u001b[39m=\u001b[39m [(\u001b[39m'\u001b[39m\u001b[39mAA\u001b[39m\u001b[39m'\u001b[39m, \u001b[39m'\u001b[39m\u001b[39mAA\u001b[39m\u001b[39m'\u001b[39m)]\n\u001b[1;32m----> 4\u001b[0m s2(D[\u001b[39m'\u001b[39;49m\u001b[39mAA\u001b[39;49m\u001b[39m'\u001b[39;49m], D[\u001b[39m'\u001b[39;49m\u001b[39mAA\u001b[39;49m\u001b[39m'\u001b[39;49m], \u001b[39m0\u001b[39;49m, \u001b[39m26\u001b[39;49m)\n\u001b[0;32m      5\u001b[0m \u001b[39mprint\u001b[39m(mp)\n\u001b[0;32m      6\u001b[0m \u001b[39mprint\u001b[39m(best_p)\n",
      "Cell \u001b[1;32mIn[100], line 49\u001b[0m, in \u001b[0;36ms2\u001b[1;34m(n1, n2, tp, ml)\u001b[0m\n\u001b[0;32m     47\u001b[0m p \u001b[39m=\u001b[39m p \u001b[39m+\u001b[39m [(nn1[\u001b[39m'\u001b[39m\u001b[39mname\u001b[39m\u001b[39m'\u001b[39m], nn2[\u001b[39m'\u001b[39m\u001b[39mname\u001b[39m\u001b[39m'\u001b[39m])]\n\u001b[0;32m     48\u001b[0m \u001b[39m# print(nn1['name'], nn2['name'])\u001b[39;00m\n\u001b[1;32m---> 49\u001b[0m s2(nn1, nn2, tp \u001b[39m+\u001b[39;49m ap1 \u001b[39m+\u001b[39;49m ap2, ml\u001b[39m-\u001b[39;49m\u001b[39m1\u001b[39;49m)\n\u001b[0;32m     50\u001b[0m \u001b[39m*\u001b[39mp, _ \u001b[39m=\u001b[39m p\n\u001b[0;32m     51\u001b[0m n2[\u001b[39m'\u001b[39m\u001b[39mopen\u001b[39m\u001b[39m'\u001b[39m] \u001b[39m=\u001b[39m (n2[\u001b[39m'\u001b[39m\u001b[39mopen\u001b[39m\u001b[39m'\u001b[39m], \u001b[39mFalse\u001b[39;00m)[nn2[\u001b[39m'\u001b[39m\u001b[39mname\u001b[39m\u001b[39m'\u001b[39m] \u001b[39m==\u001b[39m n2[\u001b[39m'\u001b[39m\u001b[39mname\u001b[39m\u001b[39m'\u001b[39m]]\n",
      "Cell \u001b[1;32mIn[100], line 49\u001b[0m, in \u001b[0;36ms2\u001b[1;34m(n1, n2, tp, ml)\u001b[0m\n\u001b[0;32m     47\u001b[0m p \u001b[39m=\u001b[39m p \u001b[39m+\u001b[39m [(nn1[\u001b[39m'\u001b[39m\u001b[39mname\u001b[39m\u001b[39m'\u001b[39m], nn2[\u001b[39m'\u001b[39m\u001b[39mname\u001b[39m\u001b[39m'\u001b[39m])]\n\u001b[0;32m     48\u001b[0m \u001b[39m# print(nn1['name'], nn2['name'])\u001b[39;00m\n\u001b[1;32m---> 49\u001b[0m s2(nn1, nn2, tp \u001b[39m+\u001b[39;49m ap1 \u001b[39m+\u001b[39;49m ap2, ml\u001b[39m-\u001b[39;49m\u001b[39m1\u001b[39;49m)\n\u001b[0;32m     50\u001b[0m \u001b[39m*\u001b[39mp, _ \u001b[39m=\u001b[39m p\n\u001b[0;32m     51\u001b[0m n2[\u001b[39m'\u001b[39m\u001b[39mopen\u001b[39m\u001b[39m'\u001b[39m] \u001b[39m=\u001b[39m (n2[\u001b[39m'\u001b[39m\u001b[39mopen\u001b[39m\u001b[39m'\u001b[39m], \u001b[39mFalse\u001b[39;00m)[nn2[\u001b[39m'\u001b[39m\u001b[39mname\u001b[39m\u001b[39m'\u001b[39m] \u001b[39m==\u001b[39m n2[\u001b[39m'\u001b[39m\u001b[39mname\u001b[39m\u001b[39m'\u001b[39m]]\n",
      "    \u001b[1;31m[... skipping similar frames: s2 at line 49 (11 times)]\u001b[0m\n",
      "Cell \u001b[1;32mIn[100], line 49\u001b[0m, in \u001b[0;36ms2\u001b[1;34m(n1, n2, tp, ml)\u001b[0m\n\u001b[0;32m     47\u001b[0m p \u001b[39m=\u001b[39m p \u001b[39m+\u001b[39m [(nn1[\u001b[39m'\u001b[39m\u001b[39mname\u001b[39m\u001b[39m'\u001b[39m], nn2[\u001b[39m'\u001b[39m\u001b[39mname\u001b[39m\u001b[39m'\u001b[39m])]\n\u001b[0;32m     48\u001b[0m \u001b[39m# print(nn1['name'], nn2['name'])\u001b[39;00m\n\u001b[1;32m---> 49\u001b[0m s2(nn1, nn2, tp \u001b[39m+\u001b[39;49m ap1 \u001b[39m+\u001b[39;49m ap2, ml\u001b[39m-\u001b[39;49m\u001b[39m1\u001b[39;49m)\n\u001b[0;32m     50\u001b[0m \u001b[39m*\u001b[39mp, _ \u001b[39m=\u001b[39m p\n\u001b[0;32m     51\u001b[0m n2[\u001b[39m'\u001b[39m\u001b[39mopen\u001b[39m\u001b[39m'\u001b[39m] \u001b[39m=\u001b[39m (n2[\u001b[39m'\u001b[39m\u001b[39mopen\u001b[39m\u001b[39m'\u001b[39m], \u001b[39mFalse\u001b[39;00m)[nn2[\u001b[39m'\u001b[39m\u001b[39mname\u001b[39m\u001b[39m'\u001b[39m] \u001b[39m==\u001b[39m n2[\u001b[39m'\u001b[39m\u001b[39mname\u001b[39m\u001b[39m'\u001b[39m]]\n",
      "Cell \u001b[1;32mIn[100], line 31\u001b[0m, in \u001b[0;36ms2\u001b[1;34m(n1, n2, tp, ml)\u001b[0m\n\u001b[0;32m     28\u001b[0m \u001b[39mdef\u001b[39;00m \u001b[39ms2\u001b[39m(n1, n2, tp, ml):\n\u001b[0;32m     29\u001b[0m     \u001b[39mglobal\u001b[39;00m mp, p, best_p\n\u001b[1;32m---> 31\u001b[0m     unopen \u001b[39m=\u001b[39m unopen_nodes(D\u001b[39m.\u001b[39;49mkeys())\n\u001b[0;32m     32\u001b[0m     \u001b[39mif\u001b[39;00m (heur \u001b[39m:=\u001b[39m h2(tp, unopen, ml)) \u001b[39m<\u001b[39m\u001b[39m=\u001b[39m mp:\n\u001b[0;32m     33\u001b[0m         \u001b[39mreturn\u001b[39;00m\n",
      "Cell \u001b[1;32mIn[99], line 16\u001b[0m, in \u001b[0;36munopen_nodes\u001b[1;34m(nodes)\u001b[0m\n\u001b[0;32m     15\u001b[0m \u001b[39mdef\u001b[39;00m \u001b[39munopen_nodes\u001b[39m(nodes):\n\u001b[1;32m---> 16\u001b[0m     \u001b[39mreturn\u001b[39;00m \u001b[39mset\u001b[39m(n \u001b[39mfor\u001b[39;00m n \u001b[39min\u001b[39;00m nodes \u001b[39mif\u001b[39;00m \u001b[39mnot\u001b[39;00m D[n][\u001b[39m'\u001b[39m\u001b[39mopen\u001b[39m\u001b[39m'\u001b[39m])\n",
      "Cell \u001b[1;32mIn[99], line 16\u001b[0m, in \u001b[0;36m<genexpr>\u001b[1;34m(.0)\u001b[0m\n\u001b[0;32m     15\u001b[0m \u001b[39mdef\u001b[39;00m \u001b[39munopen_nodes\u001b[39m(nodes):\n\u001b[1;32m---> 16\u001b[0m     \u001b[39mreturn\u001b[39;00m \u001b[39mset\u001b[39m(n \u001b[39mfor\u001b[39;00m n \u001b[39min\u001b[39;00m nodes \u001b[39mif\u001b[39;00m \u001b[39mnot\u001b[39;00m D[n][\u001b[39m'\u001b[39m\u001b[39mopen\u001b[39m\u001b[39m'\u001b[39m])\n",
      "\u001b[1;31mKeyboardInterrupt\u001b[0m: "
     ]
    }
   ],
   "source": [
    "init()\n",
    "mp=0\n",
    "p = [('AA', 'AA')]\n",
    "s2(D['AA'], D['AA'], 0, 26)\n",
    "print(mp)\n",
    "print(best_p)"
   ]
  },
  {
   "cell_type": "code",
   "execution_count": 45,
   "metadata": {},
   "outputs": [],
   "source": [
    "p = ['AA']\n",
    "best_p = p\n",
    "mp = 0\n",
    "def search(node, total_pressure, m_left, prev):\n",
    "    global p, mp\n",
    "\n",
    "    unopen = unopen_nodes(D.keys())\n",
    "    if (heur := h(total_pressure, unopen, m_left)) <= mp: # skip if est. value is less than current best\n",
    "        # print('skipping', p, heur)\n",
    "        return\n",
    "\n",
    "    if m_left == 0:\n",
    "        if total_pressure > mp:\n",
    "            mp = total_pressure\n",
    "            best_p = p\n",
    "            print(total_pressure)\n",
    "        return\n",
    "        \n",
    "    if not node['open'] and node['rate'] > 0: # try with opening only here\n",
    "        node['open'] = True\n",
    "        add_pressure = (m_left-1)*node['rate']\n",
    "        search(node, total_pressure+add_pressure, m_left-1, None)\n",
    "        node['open'] = False\n",
    "    \n",
    "    # try all possible moves\n",
    "    # prioritize unopened and with higher rate\n",
    "    next_nodes = sort_nodes(node['next'], pu=True)\n",
    "    # stop immediate cycling\n",
    "    # if prev is not None and prev in next_nodes:\n",
    "    #     next_nodes.remove(prev)\n",
    "    for n in next_nodes:\n",
    "        p = p + [n]\n",
    "        search(D[n], total_pressure, m_left-1, node)\n",
    "        *p, _ = p"
   ]
  },
  {
   "cell_type": "code",
   "execution_count": 46,
   "metadata": {},
   "outputs": [
    {
     "name": "stdout",
     "output_type": "stream",
     "text": [
      "1122\n",
      "1126\n",
      "1156\n",
      "1163\n",
      "1186\n",
      "1193\n",
      "1206\n",
      "1258\n",
      "1274\n",
      "1330\n",
      "1346\n",
      "1402\n",
      "1418\n",
      "1474\n",
      "1490\n",
      "1546\n",
      "1562\n",
      "1582\n",
      "1631\n",
      "1638\n",
      "1642\n",
      "1646\n",
      "1650\n"
     ]
    }
   ],
   "source": [
    "search(D['AA'], 0, 30, None)"
   ]
  },
  {
   "cell_type": "code",
   "execution_count": null,
   "metadata": {},
   "outputs": [],
   "source": []
  }
 ],
 "metadata": {
  "kernelspec": {
   "display_name": "Python 3",
   "language": "python",
   "name": "python3"
  },
  "language_info": {
   "codemirror_mode": {
    "name": "ipython",
    "version": 3
   },
   "file_extension": ".py",
   "mimetype": "text/x-python",
   "name": "python",
   "nbconvert_exporter": "python",
   "pygments_lexer": "ipython3",
   "version": "3.11.0"
  },
  "orig_nbformat": 4,
  "vscode": {
   "interpreter": {
    "hash": "03c51c263ddb5d15784c03a6b974d0dc24db0d884743fd86f5aa745179e21189"
   }
  }
 },
 "nbformat": 4,
 "nbformat_minor": 2
}
